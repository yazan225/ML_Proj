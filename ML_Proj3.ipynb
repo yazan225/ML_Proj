{
  "cells": [
    {
      "cell_type": "markdown",
      "metadata": {
        "id": "view-in-github",
        "colab_type": "text"
      },
      "source": [
        "<a href=\"https://colab.research.google.com/github/yazan225/ML_Proj/blob/master/ML_Proj3.ipynb\" target=\"_parent\"><img src=\"https://colab.research.google.com/assets/colab-badge.svg\" alt=\"Open In Colab\"/></a>"
      ]
    },
    {
      "cell_type": "markdown",
      "source": [
        "# Machine Learning Project ( Image Classification Using MoblieNetv2 )"
      ],
      "metadata": {
        "id": "j7-KAwhAMsCk"
      }
    },
    {
      "cell_type": "code",
      "source": [
        "# Install dependencies\n",
        "!pip install tensorflow keras matplotlib scikit-learn seaborn kaggle\n",
        "\n",
        "import os\n",
        "import zipfile\n",
        "import matplotlib.pyplot as plt\n",
        "import seaborn as sns\n",
        "import tensorflow as tf\n",
        "from tensorflow.keras import layers, models\n",
        "from tensorflow.keras.preprocessing.image import ImageDataGenerator, load_img, img_to_array\n",
        "from sklearn.model_selection import train_test_split\n",
        "from sklearn.preprocessing import LabelEncoder\n",
        "from tensorflow.keras.preprocessing import image_dataset_from_directory\n",
        "from tensorflow.keras.callbacks import EarlyStopping\n",
        "from tensorflow.keras.utils import plot_model\n",
        "from tensorflow.keras.optimizers import Adam\n",
        "from tensorflow.keras.regularizers import l2\n",
        "from tensorflow.keras.callbacks import ReduceLROnPlateau\n",
        "import numpy as np\n",
        "from sklearn.metrics import confusion_matrix\n",
        "import seaborn as sn; sn.set(font_scale=1.4)\n",
        "from sklearn.utils import shuffle\n",
        "import cv2\n",
        "from tqdm import tqdm\n"
      ],
      "metadata": {
        "colab": {
          "base_uri": "https://localhost:8080/"
        },
        "id": "oVy7pmIPw1p9",
        "outputId": "6e8fa7b3-bc20-47c5-87b2-8e26df490a5f"
      },
      "execution_count": 1,
      "outputs": [
        {
          "output_type": "stream",
          "name": "stdout",
          "text": [
            "Requirement already satisfied: tensorflow in /usr/local/lib/python3.10/dist-packages (2.17.1)\n",
            "Requirement already satisfied: keras in /usr/local/lib/python3.10/dist-packages (3.5.0)\n",
            "Requirement already satisfied: matplotlib in /usr/local/lib/python3.10/dist-packages (3.8.0)\n",
            "Requirement already satisfied: scikit-learn in /usr/local/lib/python3.10/dist-packages (1.6.0)\n",
            "Requirement already satisfied: seaborn in /usr/local/lib/python3.10/dist-packages (0.13.2)\n",
            "Requirement already satisfied: kaggle in /usr/local/lib/python3.10/dist-packages (1.6.17)\n",
            "Requirement already satisfied: absl-py>=1.0.0 in /usr/local/lib/python3.10/dist-packages (from tensorflow) (1.4.0)\n",
            "Requirement already satisfied: astunparse>=1.6.0 in /usr/local/lib/python3.10/dist-packages (from tensorflow) (1.6.3)\n",
            "Requirement already satisfied: flatbuffers>=24.3.25 in /usr/local/lib/python3.10/dist-packages (from tensorflow) (24.3.25)\n",
            "Requirement already satisfied: gast!=0.5.0,!=0.5.1,!=0.5.2,>=0.2.1 in /usr/local/lib/python3.10/dist-packages (from tensorflow) (0.6.0)\n",
            "Requirement already satisfied: google-pasta>=0.1.1 in /usr/local/lib/python3.10/dist-packages (from tensorflow) (0.2.0)\n",
            "Requirement already satisfied: h5py>=3.10.0 in /usr/local/lib/python3.10/dist-packages (from tensorflow) (3.12.1)\n",
            "Requirement already satisfied: libclang>=13.0.0 in /usr/local/lib/python3.10/dist-packages (from tensorflow) (18.1.1)\n",
            "Requirement already satisfied: ml-dtypes<0.5.0,>=0.3.1 in /usr/local/lib/python3.10/dist-packages (from tensorflow) (0.4.1)\n",
            "Requirement already satisfied: opt-einsum>=2.3.2 in /usr/local/lib/python3.10/dist-packages (from tensorflow) (3.4.0)\n",
            "Requirement already satisfied: packaging in /usr/local/lib/python3.10/dist-packages (from tensorflow) (24.2)\n",
            "Requirement already satisfied: protobuf!=4.21.0,!=4.21.1,!=4.21.2,!=4.21.3,!=4.21.4,!=4.21.5,<5.0.0dev,>=3.20.3 in /usr/local/lib/python3.10/dist-packages (from tensorflow) (4.25.5)\n",
            "Requirement already satisfied: requests<3,>=2.21.0 in /usr/local/lib/python3.10/dist-packages (from tensorflow) (2.32.3)\n",
            "Requirement already satisfied: setuptools in /usr/local/lib/python3.10/dist-packages (from tensorflow) (75.1.0)\n",
            "Requirement already satisfied: six>=1.12.0 in /usr/local/lib/python3.10/dist-packages (from tensorflow) (1.17.0)\n",
            "Requirement already satisfied: termcolor>=1.1.0 in /usr/local/lib/python3.10/dist-packages (from tensorflow) (2.5.0)\n",
            "Requirement already satisfied: typing-extensions>=3.6.6 in /usr/local/lib/python3.10/dist-packages (from tensorflow) (4.12.2)\n",
            "Requirement already satisfied: wrapt>=1.11.0 in /usr/local/lib/python3.10/dist-packages (from tensorflow) (1.17.0)\n",
            "Requirement already satisfied: grpcio<2.0,>=1.24.3 in /usr/local/lib/python3.10/dist-packages (from tensorflow) (1.68.1)\n",
            "Requirement already satisfied: tensorboard<2.18,>=2.17 in /usr/local/lib/python3.10/dist-packages (from tensorflow) (2.17.1)\n",
            "Requirement already satisfied: tensorflow-io-gcs-filesystem>=0.23.1 in /usr/local/lib/python3.10/dist-packages (from tensorflow) (0.37.1)\n",
            "Requirement already satisfied: numpy<2.0.0,>=1.23.5 in /usr/local/lib/python3.10/dist-packages (from tensorflow) (1.26.4)\n",
            "Requirement already satisfied: rich in /usr/local/lib/python3.10/dist-packages (from keras) (13.9.4)\n",
            "Requirement already satisfied: namex in /usr/local/lib/python3.10/dist-packages (from keras) (0.0.8)\n",
            "Requirement already satisfied: optree in /usr/local/lib/python3.10/dist-packages (from keras) (0.13.1)\n",
            "Requirement already satisfied: contourpy>=1.0.1 in /usr/local/lib/python3.10/dist-packages (from matplotlib) (1.3.1)\n",
            "Requirement already satisfied: cycler>=0.10 in /usr/local/lib/python3.10/dist-packages (from matplotlib) (0.12.1)\n",
            "Requirement already satisfied: fonttools>=4.22.0 in /usr/local/lib/python3.10/dist-packages (from matplotlib) (4.55.3)\n",
            "Requirement already satisfied: kiwisolver>=1.0.1 in /usr/local/lib/python3.10/dist-packages (from matplotlib) (1.4.7)\n",
            "Requirement already satisfied: pillow>=6.2.0 in /usr/local/lib/python3.10/dist-packages (from matplotlib) (11.0.0)\n",
            "Requirement already satisfied: pyparsing>=2.3.1 in /usr/local/lib/python3.10/dist-packages (from matplotlib) (3.2.0)\n",
            "Requirement already satisfied: python-dateutil>=2.7 in /usr/local/lib/python3.10/dist-packages (from matplotlib) (2.8.2)\n",
            "Requirement already satisfied: scipy>=1.6.0 in /usr/local/lib/python3.10/dist-packages (from scikit-learn) (1.13.1)\n",
            "Requirement already satisfied: joblib>=1.2.0 in /usr/local/lib/python3.10/dist-packages (from scikit-learn) (1.4.2)\n",
            "Requirement already satisfied: threadpoolctl>=3.1.0 in /usr/local/lib/python3.10/dist-packages (from scikit-learn) (3.5.0)\n",
            "Requirement already satisfied: pandas>=1.2 in /usr/local/lib/python3.10/dist-packages (from seaborn) (2.2.2)\n",
            "Requirement already satisfied: certifi>=2023.7.22 in /usr/local/lib/python3.10/dist-packages (from kaggle) (2024.12.14)\n",
            "Requirement already satisfied: tqdm in /usr/local/lib/python3.10/dist-packages (from kaggle) (4.67.1)\n",
            "Requirement already satisfied: python-slugify in /usr/local/lib/python3.10/dist-packages (from kaggle) (8.0.4)\n",
            "Requirement already satisfied: urllib3 in /usr/local/lib/python3.10/dist-packages (from kaggle) (2.2.3)\n",
            "Requirement already satisfied: bleach in /usr/local/lib/python3.10/dist-packages (from kaggle) (6.2.0)\n",
            "Requirement already satisfied: wheel<1.0,>=0.23.0 in /usr/local/lib/python3.10/dist-packages (from astunparse>=1.6.0->tensorflow) (0.45.1)\n",
            "Requirement already satisfied: pytz>=2020.1 in /usr/local/lib/python3.10/dist-packages (from pandas>=1.2->seaborn) (2024.2)\n",
            "Requirement already satisfied: tzdata>=2022.7 in /usr/local/lib/python3.10/dist-packages (from pandas>=1.2->seaborn) (2024.2)\n",
            "Requirement already satisfied: charset-normalizer<4,>=2 in /usr/local/lib/python3.10/dist-packages (from requests<3,>=2.21.0->tensorflow) (3.4.0)\n",
            "Requirement already satisfied: idna<4,>=2.5 in /usr/local/lib/python3.10/dist-packages (from requests<3,>=2.21.0->tensorflow) (3.10)\n",
            "Requirement already satisfied: markdown>=2.6.8 in /usr/local/lib/python3.10/dist-packages (from tensorboard<2.18,>=2.17->tensorflow) (3.7)\n",
            "Requirement already satisfied: tensorboard-data-server<0.8.0,>=0.7.0 in /usr/local/lib/python3.10/dist-packages (from tensorboard<2.18,>=2.17->tensorflow) (0.7.2)\n",
            "Requirement already satisfied: werkzeug>=1.0.1 in /usr/local/lib/python3.10/dist-packages (from tensorboard<2.18,>=2.17->tensorflow) (3.1.3)\n",
            "Requirement already satisfied: webencodings in /usr/local/lib/python3.10/dist-packages (from bleach->kaggle) (0.5.1)\n",
            "Requirement already satisfied: text-unidecode>=1.3 in /usr/local/lib/python3.10/dist-packages (from python-slugify->kaggle) (1.3)\n",
            "Requirement already satisfied: markdown-it-py>=2.2.0 in /usr/local/lib/python3.10/dist-packages (from rich->keras) (3.0.0)\n",
            "Requirement already satisfied: pygments<3.0.0,>=2.13.0 in /usr/local/lib/python3.10/dist-packages (from rich->keras) (2.18.0)\n",
            "Requirement already satisfied: mdurl~=0.1 in /usr/local/lib/python3.10/dist-packages (from markdown-it-py>=2.2.0->rich->keras) (0.1.2)\n",
            "Requirement already satisfied: MarkupSafe>=2.1.1 in /usr/local/lib/python3.10/dist-packages (from werkzeug>=1.0.1->tensorboard<2.18,>=2.17->tensorflow) (3.0.2)\n"
          ]
        }
      ]
    },
    {
      "cell_type": "code",
      "source": [
        "## Step 1: Download and Extract Dataset\n",
        "from google.colab import files\n",
        "os.environ['KAGGLE_CONFIG_DIR'] = \"/content\"\n",
        "\n",
        "# Download the dataset using Kaggle API\n",
        "!kaggle datasets download -d alessiocorrado99/animals10\n",
        "\n",
        "with zipfile.ZipFile('animals10.zip', 'r') as zip_ref:\n",
        "    zip_ref.extractall('/content/animals10')"
      ],
      "metadata": {
        "colab": {
          "base_uri": "https://localhost:8080/"
        },
        "id": "Gfg8-NAMw927",
        "outputId": "268bf017-160c-49f5-9a26-2587e54210bb"
      },
      "execution_count": 2,
      "outputs": [
        {
          "output_type": "stream",
          "name": "stdout",
          "text": [
            "Dataset URL: https://www.kaggle.com/datasets/alessiocorrado99/animals10\n",
            "License(s): GPL-2.0\n",
            "Downloading animals10.zip to /content\n",
            " 99% 578M/586M [00:06<00:00, 70.6MB/s]\n",
            "100% 586M/586M [00:06<00:00, 92.7MB/s]\n"
          ]
        }
      ]
    },
    {
      "cell_type": "code",
      "source": [
        "# Split into train, val, test\n",
        "import os\n",
        "import shutil\n",
        "from sklearn.model_selection import train_test_split\n",
        "\n",
        "# Define paths\n",
        "source_dir = \"animals10/raw-img\"  # Source directory containing animal folders\n",
        "output_dir = \"SplittedAnimals10\"  # Output directory with train, val, test\n",
        "\n",
        "#  joins the path in output_dir with the subdirectories\n",
        "train_dir = os.path.join(output_dir, \"train\")\n",
        "val_dir = os.path.join(output_dir, \"val\")\n",
        "test_dir = os.path.join(output_dir, \"test\")\n",
        "\n",
        "# Create train, val, test directories if not exist\n",
        "os.makedirs(train_dir, exist_ok=True)\n",
        "os.makedirs(val_dir, exist_ok=True)\n",
        "os.makedirs(test_dir, exist_ok=True)\n",
        "\n",
        "# Function to split data\n",
        "def split_and_transfer_data():\n",
        "    for animal_class in os.listdir(source_dir):\n",
        "        class_path = os.path.join(source_dir, animal_class)\n",
        "\n",
        "        # Skip if not a directory\n",
        "        if not os.path.isdir(class_path):\n",
        "            continue\n",
        "\n",
        "        # Get all images in the class directory\n",
        "        images = os.listdir(class_path)\n",
        "\n",
        "        # Split into train, val, test\n",
        "        train_images, temp_images = train_test_split(images, test_size=0.3, random_state=42)  # 70% train # you'll get the exact same split of the data with random_state=42\n",
        "        val_images, test_images = train_test_split(temp_images, test_size=0.5, random_state=42)  # 15% val, 15% test\n",
        "\n",
        "        # Create class directories in train, val, test\n",
        "        os.makedirs(os.path.join(train_dir, animal_class), exist_ok=True)\n",
        "        os.makedirs(os.path.join(val_dir, animal_class), exist_ok=True)\n",
        "        os.makedirs(os.path.join(test_dir, animal_class), exist_ok=True)\n",
        "\n",
        "        # Move files\n",
        "        for img in train_images:\n",
        "            # copying an image file (img) from its source directory (class_path) to a target directory.\n",
        "            shutil.copy(os.path.join(class_path, img), os.path.join(train_dir, animal_class, img))\n",
        "\n",
        "        for img in val_images:\n",
        "            shutil.copy(os.path.join(class_path, img), os.path.join(val_dir, animal_class, img))\n",
        "\n",
        "        for img in test_images:\n",
        "            shutil.copy(os.path.join(class_path, img), os.path.join(test_dir, animal_class, img))\n",
        "\n",
        "        print(f\"Processed class: {animal_class}\")\n",
        "    print(\"Data transfer complete.\")\n",
        "\n",
        "# Execute the function\n",
        "split_and_transfer_data()"
      ],
      "metadata": {
        "colab": {
          "base_uri": "https://localhost:8080/"
        },
        "id": "T2O1MLUrih05",
        "outputId": "cd599ca6-13b9-4a00-f8b5-9810d2e6834d"
      },
      "execution_count": 3,
      "outputs": [
        {
          "output_type": "stream",
          "name": "stdout",
          "text": [
            "Processed class: gallina\n",
            "Processed class: ragno\n",
            "Processed class: farfalla\n",
            "Processed class: elefante\n",
            "Processed class: pecora\n",
            "Processed class: scoiattolo\n",
            "Processed class: mucca\n",
            "Processed class: gatto\n",
            "Processed class: cane\n",
            "Processed class: cavallo\n",
            "Data transfer complete.\n"
          ]
        }
      ]
    },
    {
      "cell_type": "code",
      "source": [
        "# Step 2: defines and trains a model using MobileNetV2 & applying data augmentation for training\n",
        "from tensorflow.keras.applications import MobileNetV2\n",
        "from tensorflow.keras.layers import GlobalAveragePooling2D, Dense\n",
        "from tensorflow.keras.models import Model\n",
        "from tensorflow.keras.optimizers import Adam\n",
        "from tensorflow.keras.preprocessing.image import ImageDataGenerator\n",
        "\n",
        "# Load MobileNetV2 pretrained on ImageNet, excluding the top layers\n",
        "base_model = MobileNetV2(weights='imagenet', include_top=False, input_shape=(128, 128, 3)) # Loads the pretrained weights from the ImageNet dataset.\n",
        "\n",
        "# Freeze the base model to prevent updating its weights during training\n",
        "base_model.trainable = False\n",
        "\n",
        "# Create a new top model\n",
        "model = Model(inputs=base_model.input,\n",
        "              outputs=Dense(10, activation='softmax')(GlobalAveragePooling2D()(base_model.output)))\n",
        "\n",
        "# Compile the model with a lower learning rate\n",
        "model.compile(optimizer=Adam(learning_rate=1e-5),\n",
        "              loss='sparse_categorical_crossentropy',\n",
        "              metrics=['accuracy'])\n",
        "\n",
        "# Define the data generators with image resizing\n",
        "train_datagen = ImageDataGenerator(rescale=1./255,\n",
        "                                   rotation_range=40,\n",
        "                                   width_shift_range=0.2,\n",
        "                                   height_shift_range=0.2,\n",
        "                                   shear_range=0.2,\n",
        "                                   zoom_range=0.2,\n",
        "                                   horizontal_flip=True,\n",
        "                                   fill_mode='nearest')\n",
        "\n",
        "val_datagen = ImageDataGenerator(rescale=1./255)\n",
        "test_datagen = ImageDataGenerator(rescale=1./255)\n",
        "\n",
        "train_generator = train_datagen.flow_from_directory(\n",
        "    '/content/SplittedAnimals10/train',\n",
        "    target_size=(128, 128),\n",
        "    batch_size=32,\n",
        "    class_mode='sparse'\n",
        ")\n",
        "\n",
        "val_generator = val_datagen.flow_from_directory(\n",
        "    '/content/SplittedAnimals10/val',\n",
        "    target_size=(128, 128),\n",
        "    batch_size=32,\n",
        "    class_mode='sparse'\n",
        ")\n",
        "\n",
        "test_generator = test_datagen.flow_from_directory(\n",
        "    '/content/SplittedAnimals10/test',\n",
        "    target_size=(128, 128),\n",
        "    batch_size=32,\n",
        "    class_mode='sparse'\n",
        ")\n",
        "\n"
      ],
      "metadata": {
        "colab": {
          "base_uri": "https://localhost:8080/"
        },
        "id": "YWJRKVfmxgBm",
        "outputId": "d43602b2-5c18-46db-c644-a70837553091"
      },
      "execution_count": 4,
      "outputs": [
        {
          "output_type": "stream",
          "name": "stdout",
          "text": [
            "Downloading data from https://storage.googleapis.com/tensorflow/keras-applications/mobilenet_v2/mobilenet_v2_weights_tf_dim_ordering_tf_kernels_1.0_128_no_top.h5\n",
            "\u001b[1m9406464/9406464\u001b[0m \u001b[32m━━━━━━━━━━━━━━━━━━━━\u001b[0m\u001b[37m\u001b[0m \u001b[1m0s\u001b[0m 0us/step\n",
            "Found 18322 images belonging to 10 classes.\n",
            "Found 3926 images belonging to 10 classes.\n",
            "Found 3931 images belonging to 10 classes.\n"
          ]
        }
      ]
    },
    {
      "cell_type": "code",
      "source": [
        "# Visualization\n",
        "label_dict = train_generator.class_indices\n",
        "sample_generate = train_generator.__next__()\n",
        "images = sample_generate[0]\n",
        "titles = sample_generate[1]\n",
        "plt.figure(figsize=(20, 20))\n",
        "\n",
        "for i in range (15):\n",
        "\tplt.subplot(5, 5, i+1)\n",
        "\tplt.subplots_adjust(hspace=0.3, wspace=0.3)\n",
        "\tplt.imshow(images[i])\n",
        "\tlabel_index = int(titles[i])\n",
        "\tclass_name = list(label_dict.keys())[list(label_dict.values()).index(label_index)]\n",
        "\tplt.title(class_name)\n",
        "\tplt.axis(\"off\")\n",
        "\n",
        "\n",
        "\n",
        "# Visulization\n",
        "import pandas as pd\n",
        "\n",
        "train_labels = train_generator.classes\n",
        "test_labels = val_generator.classes\n",
        "class_names = list(train_generator.class_indices.keys())\n",
        "\n",
        "train_counts = pd.Series(train_labels).value_counts().sort_index()\n",
        "test_counts = pd.Series(test_labels).value_counts().sort_index()\n",
        "\n",
        "df = pd.DataFrame({'train': train_counts, 'test': test_counts})\n",
        "df.index = class_names\n",
        "\n",
        "ax = df.plot(kind='bar')\n",
        "for p in ax.patches:\n",
        "\tax.annotate(str(p.get_height()), (p.get_x() + p.get_width() /2., p.get_height()), ha='center', va='center', xytext=(0, 5), textcoords='offset points')\n",
        "\n",
        "plt.show()\n",
        "\n",
        "\n",
        "\n",
        "# Visulization\n",
        "plt.pie(train_counts, explode=(0, 0, 0, 0, 0, 0, 0, 0, 0, 0) , labels=class_names, autopct='%1.1f%%', textprops={'fontsize': 14})\n",
        "plt.axis('equal')\n",
        "plt.title('Proportion of each observed category')\n",
        "plt.show()\n",
        "\n",
        "\n",
        "\n"
      ],
      "metadata": {
        "id": "TQSpnAJIxNLH"
      },
      "execution_count": null,
      "outputs": []
    },
    {
      "cell_type": "code",
      "source": [
        "early_stopping = EarlyStopping(monitor='val_loss', patience=5, restore_best_weights=True)"
      ],
      "metadata": {
        "id": "z-SuQ8_4yD6l"
      },
      "execution_count": 5,
      "outputs": []
    },
    {
      "cell_type": "code",
      "source": [
        "# Train the model\n",
        "history = model.fit(\n",
        "    train_generator,\n",
        "    epochs=50,\n",
        "    validation_data=val_generator,\n",
        "    callbacks=[early_stopping]\n",
        ")\n"
      ],
      "metadata": {
        "colab": {
          "base_uri": "https://localhost:8080/"
        },
        "id": "fkoR_RwsxNw0",
        "outputId": "8872698e-5ef1-4440-a9fa-5c9c536ae544"
      },
      "execution_count": 6,
      "outputs": [
        {
          "output_type": "stream",
          "name": "stdout",
          "text": [
            "Epoch 1/50\n"
          ]
        },
        {
          "output_type": "stream",
          "name": "stderr",
          "text": [
            "/usr/local/lib/python3.10/dist-packages/keras/src/trainers/data_adapters/py_dataset_adapter.py:122: UserWarning: Your `PyDataset` class should call `super().__init__(**kwargs)` in its constructor. `**kwargs` can include `workers`, `use_multiprocessing`, `max_queue_size`. Do not pass these arguments to `fit()`, as they will be ignored.\n",
            "  self._warn_if_super_not_called()\n"
          ]
        },
        {
          "output_type": "stream",
          "name": "stdout",
          "text": [
            "\u001b[1m573/573\u001b[0m \u001b[32m━━━━━━━━━━━━━━━━━━━━\u001b[0m\u001b[37m\u001b[0m \u001b[1m133s\u001b[0m 214ms/step - accuracy: 0.1569 - loss: 2.6179 - val_accuracy: 0.2962 - val_loss: 2.1342\n",
            "Epoch 2/50\n",
            "\u001b[1m573/573\u001b[0m \u001b[32m━━━━━━━━━━━━━━━━━━━━\u001b[0m\u001b[37m\u001b[0m \u001b[1m104s\u001b[0m 177ms/step - accuracy: 0.3115 - loss: 2.0985 - val_accuracy: 0.4310 - val_loss: 1.7399\n",
            "Epoch 3/50\n",
            "\u001b[1m573/573\u001b[0m \u001b[32m━━━━━━━━━━━━━━━━━━━━\u001b[0m\u001b[37m\u001b[0m \u001b[1m127s\u001b[0m 219ms/step - accuracy: 0.4255 - loss: 1.7643 - val_accuracy: 0.5428 - val_loss: 1.4417\n",
            "Epoch 4/50\n",
            "\u001b[1m573/573\u001b[0m \u001b[32m━━━━━━━━━━━━━━━━━━━━\u001b[0m\u001b[37m\u001b[0m \u001b[1m115s\u001b[0m 172ms/step - accuracy: 0.5174 - loss: 1.5062 - val_accuracy: 0.6312 - val_loss: 1.2137\n",
            "Epoch 5/50\n",
            "\u001b[1m573/573\u001b[0m \u001b[32m━━━━━━━━━━━━━━━━━━━━\u001b[0m\u001b[37m\u001b[0m \u001b[1m147s\u001b[0m 181ms/step - accuracy: 0.5939 - loss: 1.2976 - val_accuracy: 0.6951 - val_loss: 1.0454\n",
            "Epoch 6/50\n",
            "\u001b[1m573/573\u001b[0m \u001b[32m━━━━━━━━━━━━━━━━━━━━\u001b[0m\u001b[37m\u001b[0m \u001b[1m137s\u001b[0m 172ms/step - accuracy: 0.6437 - loss: 1.1554 - val_accuracy: 0.7473 - val_loss: 0.9155\n",
            "Epoch 7/50\n",
            "\u001b[1m573/573\u001b[0m \u001b[32m━━━━━━━━━━━━━━━━━━━━\u001b[0m\u001b[37m\u001b[0m \u001b[1m142s\u001b[0m 171ms/step - accuracy: 0.6853 - loss: 1.0411 - val_accuracy: 0.7787 - val_loss: 0.8179\n",
            "Epoch 8/50\n",
            "\u001b[1m573/573\u001b[0m \u001b[32m━━━━━━━━━━━━━━━━━━━━\u001b[0m\u001b[37m\u001b[0m \u001b[1m141s\u001b[0m 171ms/step - accuracy: 0.7123 - loss: 0.9685 - val_accuracy: 0.7975 - val_loss: 0.7393\n",
            "Epoch 9/50\n",
            "\u001b[1m573/573\u001b[0m \u001b[32m━━━━━━━━━━━━━━━━━━━━\u001b[0m\u001b[37m\u001b[0m \u001b[1m142s\u001b[0m 171ms/step - accuracy: 0.7301 - loss: 0.9000 - val_accuracy: 0.8164 - val_loss: 0.6756\n",
            "Epoch 10/50\n",
            "\u001b[1m573/573\u001b[0m \u001b[32m━━━━━━━━━━━━━━━━━━━━\u001b[0m\u001b[37m\u001b[0m \u001b[1m142s\u001b[0m 171ms/step - accuracy: 0.7458 - loss: 0.8492 - val_accuracy: 0.8311 - val_loss: 0.6247\n",
            "Epoch 11/50\n",
            "\u001b[1m573/573\u001b[0m \u001b[32m━━━━━━━━━━━━━━━━━━━━\u001b[0m\u001b[37m\u001b[0m \u001b[1m99s\u001b[0m 171ms/step - accuracy: 0.7587 - loss: 0.7838 - val_accuracy: 0.8395 - val_loss: 0.5868\n",
            "Epoch 12/50\n",
            "\u001b[1m573/573\u001b[0m \u001b[32m━━━━━━━━━━━━━━━━━━━━\u001b[0m\u001b[37m\u001b[0m \u001b[1m106s\u001b[0m 183ms/step - accuracy: 0.7655 - loss: 0.7546 - val_accuracy: 0.8484 - val_loss: 0.5518\n",
            "Epoch 13/50\n",
            "\u001b[1m573/573\u001b[0m \u001b[32m━━━━━━━━━━━━━━━━━━━━\u001b[0m\u001b[37m\u001b[0m \u001b[1m137s\u001b[0m 176ms/step - accuracy: 0.7749 - loss: 0.7307 - val_accuracy: 0.8551 - val_loss: 0.5234\n",
            "Epoch 14/50\n",
            "\u001b[1m573/573\u001b[0m \u001b[32m━━━━━━━━━━━━━━━━━━━━\u001b[0m\u001b[37m\u001b[0m \u001b[1m107s\u001b[0m 185ms/step - accuracy: 0.7791 - loss: 0.7033 - val_accuracy: 0.8609 - val_loss: 0.5005\n",
            "Epoch 15/50\n",
            "\u001b[1m573/573\u001b[0m \u001b[32m━━━━━━━━━━━━━━━━━━━━\u001b[0m\u001b[37m\u001b[0m \u001b[1m102s\u001b[0m 177ms/step - accuracy: 0.7855 - loss: 0.6908 - val_accuracy: 0.8675 - val_loss: 0.4798\n",
            "Epoch 16/50\n",
            "\u001b[1m573/573\u001b[0m \u001b[32m━━━━━━━━━━━━━━━━━━━━\u001b[0m\u001b[37m\u001b[0m \u001b[1m146s\u001b[0m 184ms/step - accuracy: 0.7920 - loss: 0.6571 - val_accuracy: 0.8704 - val_loss: 0.4646\n",
            "Epoch 17/50\n",
            "\u001b[1m573/573\u001b[0m \u001b[32m━━━━━━━━━━━━━━━━━━━━\u001b[0m\u001b[37m\u001b[0m \u001b[1m106s\u001b[0m 182ms/step - accuracy: 0.7954 - loss: 0.6469 - val_accuracy: 0.8752 - val_loss: 0.4472\n",
            "Epoch 18/50\n",
            "\u001b[1m573/573\u001b[0m \u001b[32m━━━━━━━━━━━━━━━━━━━━\u001b[0m\u001b[37m\u001b[0m \u001b[1m137s\u001b[0m 174ms/step - accuracy: 0.8078 - loss: 0.6162 - val_accuracy: 0.8793 - val_loss: 0.4342\n",
            "Epoch 19/50\n",
            "\u001b[1m573/573\u001b[0m \u001b[32m━━━━━━━━━━━━━━━━━━━━\u001b[0m\u001b[37m\u001b[0m \u001b[1m101s\u001b[0m 175ms/step - accuracy: 0.8072 - loss: 0.6155 - val_accuracy: 0.8818 - val_loss: 0.4228\n",
            "Epoch 20/50\n",
            "\u001b[1m573/573\u001b[0m \u001b[32m━━━━━━━━━━━━━━━━━━━━\u001b[0m\u001b[37m\u001b[0m \u001b[1m142s\u001b[0m 176ms/step - accuracy: 0.8126 - loss: 0.5895 - val_accuracy: 0.8833 - val_loss: 0.4132\n",
            "Epoch 21/50\n",
            "\u001b[1m573/573\u001b[0m \u001b[32m━━━━━━━━━━━━━━━━━━━━\u001b[0m\u001b[37m\u001b[0m \u001b[1m142s\u001b[0m 176ms/step - accuracy: 0.8113 - loss: 0.5935 - val_accuracy: 0.8836 - val_loss: 0.4047\n",
            "Epoch 22/50\n",
            "\u001b[1m573/573\u001b[0m \u001b[32m━━━━━━━━━━━━━━━━━━━━\u001b[0m\u001b[37m\u001b[0m \u001b[1m103s\u001b[0m 176ms/step - accuracy: 0.8160 - loss: 0.5893 - val_accuracy: 0.8846 - val_loss: 0.3954\n",
            "Epoch 23/50\n",
            "\u001b[1m573/573\u001b[0m \u001b[32m━━━━━━━━━━━━━━━━━━━━\u001b[0m\u001b[37m\u001b[0m \u001b[1m102s\u001b[0m 177ms/step - accuracy: 0.8192 - loss: 0.5762 - val_accuracy: 0.8864 - val_loss: 0.3897\n",
            "Epoch 24/50\n",
            "\u001b[1m573/573\u001b[0m \u001b[32m━━━━━━━━━━━━━━━━━━━━\u001b[0m\u001b[37m\u001b[0m \u001b[1m101s\u001b[0m 175ms/step - accuracy: 0.8168 - loss: 0.5706 - val_accuracy: 0.8887 - val_loss: 0.3823\n",
            "Epoch 25/50\n",
            "\u001b[1m573/573\u001b[0m \u001b[32m━━━━━━━━━━━━━━━━━━━━\u001b[0m\u001b[37m\u001b[0m \u001b[1m99s\u001b[0m 172ms/step - accuracy: 0.8255 - loss: 0.5511 - val_accuracy: 0.8902 - val_loss: 0.3752\n",
            "Epoch 26/50\n",
            "\u001b[1m573/573\u001b[0m \u001b[32m━━━━━━━━━━━━━━━━━━━━\u001b[0m\u001b[37m\u001b[0m \u001b[1m99s\u001b[0m 171ms/step - accuracy: 0.8289 - loss: 0.5364 - val_accuracy: 0.8910 - val_loss: 0.3696\n",
            "Epoch 27/50\n",
            "\u001b[1m573/573\u001b[0m \u001b[32m━━━━━━━━━━━━━━━━━━━━\u001b[0m\u001b[37m\u001b[0m \u001b[1m148s\u001b[0m 181ms/step - accuracy: 0.8211 - loss: 0.5446 - val_accuracy: 0.8915 - val_loss: 0.3638\n",
            "Epoch 28/50\n",
            "\u001b[1m573/573\u001b[0m \u001b[32m━━━━━━━━━━━━━━━━━━━━\u001b[0m\u001b[37m\u001b[0m \u001b[1m99s\u001b[0m 171ms/step - accuracy: 0.8233 - loss: 0.5300 - val_accuracy: 0.8945 - val_loss: 0.3593\n",
            "Epoch 29/50\n",
            "\u001b[1m573/573\u001b[0m \u001b[32m━━━━━━━━━━━━━━━━━━━━\u001b[0m\u001b[37m\u001b[0m \u001b[1m143s\u001b[0m 173ms/step - accuracy: 0.8342 - loss: 0.5192 - val_accuracy: 0.8938 - val_loss: 0.3546\n",
            "Epoch 30/50\n",
            "\u001b[1m573/573\u001b[0m \u001b[32m━━━━━━━━━━━━━━━━━━━━\u001b[0m\u001b[37m\u001b[0m \u001b[1m141s\u001b[0m 173ms/step - accuracy: 0.8238 - loss: 0.5439 - val_accuracy: 0.8940 - val_loss: 0.3505\n",
            "Epoch 31/50\n",
            "\u001b[1m573/573\u001b[0m \u001b[32m━━━━━━━━━━━━━━━━━━━━\u001b[0m\u001b[37m\u001b[0m \u001b[1m99s\u001b[0m 171ms/step - accuracy: 0.8321 - loss: 0.5176 - val_accuracy: 0.8948 - val_loss: 0.3459\n",
            "Epoch 32/50\n",
            "\u001b[1m573/573\u001b[0m \u001b[32m━━━━━━━━━━━━━━━━━━━━\u001b[0m\u001b[37m\u001b[0m \u001b[1m147s\u001b[0m 180ms/step - accuracy: 0.8336 - loss: 0.5106 - val_accuracy: 0.8968 - val_loss: 0.3403\n",
            "Epoch 33/50\n",
            "\u001b[1m573/573\u001b[0m \u001b[32m━━━━━━━━━━━━━━━━━━━━\u001b[0m\u001b[37m\u001b[0m \u001b[1m100s\u001b[0m 173ms/step - accuracy: 0.8340 - loss: 0.5064 - val_accuracy: 0.8974 - val_loss: 0.3386\n",
            "Epoch 34/50\n",
            "\u001b[1m573/573\u001b[0m \u001b[32m━━━━━━━━━━━━━━━━━━━━\u001b[0m\u001b[37m\u001b[0m \u001b[1m147s\u001b[0m 183ms/step - accuracy: 0.8336 - loss: 0.5164 - val_accuracy: 0.8974 - val_loss: 0.3350\n",
            "Epoch 35/50\n",
            "\u001b[1m573/573\u001b[0m \u001b[32m━━━━━━━━━━━━━━━━━━━━\u001b[0m\u001b[37m\u001b[0m \u001b[1m107s\u001b[0m 184ms/step - accuracy: 0.8414 - loss: 0.4973 - val_accuracy: 0.8989 - val_loss: 0.3313\n",
            "Epoch 36/50\n",
            "\u001b[1m573/573\u001b[0m \u001b[32m━━━━━━━━━━━━━━━━━━━━\u001b[0m\u001b[37m\u001b[0m \u001b[1m138s\u001b[0m 177ms/step - accuracy: 0.8321 - loss: 0.5011 - val_accuracy: 0.8996 - val_loss: 0.3295\n",
            "Epoch 37/50\n",
            "\u001b[1m573/573\u001b[0m \u001b[32m━━━━━━━━━━━━━━━━━━━━\u001b[0m\u001b[37m\u001b[0m \u001b[1m101s\u001b[0m 174ms/step - accuracy: 0.8416 - loss: 0.4928 - val_accuracy: 0.9014 - val_loss: 0.3271\n",
            "Epoch 38/50\n",
            "\u001b[1m573/573\u001b[0m \u001b[32m━━━━━━━━━━━━━━━━━━━━\u001b[0m\u001b[37m\u001b[0m \u001b[1m148s\u001b[0m 184ms/step - accuracy: 0.8364 - loss: 0.4941 - val_accuracy: 0.9007 - val_loss: 0.3234\n",
            "Epoch 39/50\n",
            "\u001b[1m573/573\u001b[0m \u001b[32m━━━━━━━━━━━━━━━━━━━━\u001b[0m\u001b[37m\u001b[0m \u001b[1m103s\u001b[0m 178ms/step - accuracy: 0.8377 - loss: 0.4966 - val_accuracy: 0.9030 - val_loss: 0.3203\n",
            "Epoch 40/50\n",
            "\u001b[1m573/573\u001b[0m \u001b[32m━━━━━━━━━━━━━━━━━━━━\u001b[0m\u001b[37m\u001b[0m \u001b[1m101s\u001b[0m 175ms/step - accuracy: 0.8428 - loss: 0.4852 - val_accuracy: 0.9035 - val_loss: 0.3173\n",
            "Epoch 41/50\n",
            "\u001b[1m573/573\u001b[0m \u001b[32m━━━━━━━━━━━━━━━━━━━━\u001b[0m\u001b[37m\u001b[0m \u001b[1m107s\u001b[0m 185ms/step - accuracy: 0.8455 - loss: 0.4778 - val_accuracy: 0.9050 - val_loss: 0.3157\n",
            "Epoch 42/50\n",
            "\u001b[1m573/573\u001b[0m \u001b[32m━━━━━━━━━━━━━━━━━━━━\u001b[0m\u001b[37m\u001b[0m \u001b[1m136s\u001b[0m 175ms/step - accuracy: 0.8451 - loss: 0.4691 - val_accuracy: 0.9045 - val_loss: 0.3137\n",
            "Epoch 43/50\n",
            "\u001b[1m573/573\u001b[0m \u001b[32m━━━━━━━━━━━━━━━━━━━━\u001b[0m\u001b[37m\u001b[0m \u001b[1m101s\u001b[0m 174ms/step - accuracy: 0.8401 - loss: 0.4800 - val_accuracy: 0.9058 - val_loss: 0.3111\n",
            "Epoch 44/50\n",
            "\u001b[1m573/573\u001b[0m \u001b[32m━━━━━━━━━━━━━━━━━━━━\u001b[0m\u001b[37m\u001b[0m \u001b[1m101s\u001b[0m 174ms/step - accuracy: 0.8407 - loss: 0.4857 - val_accuracy: 0.9065 - val_loss: 0.3106\n",
            "Epoch 45/50\n",
            "\u001b[1m573/573\u001b[0m \u001b[32m━━━━━━━━━━━━━━━━━━━━\u001b[0m\u001b[37m\u001b[0m \u001b[1m101s\u001b[0m 175ms/step - accuracy: 0.8380 - loss: 0.4796 - val_accuracy: 0.9070 - val_loss: 0.3080\n",
            "Epoch 46/50\n",
            "\u001b[1m573/573\u001b[0m \u001b[32m━━━━━━━━━━━━━━━━━━━━\u001b[0m\u001b[37m\u001b[0m \u001b[1m143s\u001b[0m 176ms/step - accuracy: 0.8411 - loss: 0.4808 - val_accuracy: 0.9070 - val_loss: 0.3068\n",
            "Epoch 47/50\n",
            "\u001b[1m573/573\u001b[0m \u001b[32m━━━━━━━━━━━━━━━━━━━━\u001b[0m\u001b[37m\u001b[0m \u001b[1m99s\u001b[0m 171ms/step - accuracy: 0.8492 - loss: 0.4676 - val_accuracy: 0.9073 - val_loss: 0.3053\n",
            "Epoch 48/50\n",
            "\u001b[1m573/573\u001b[0m \u001b[32m━━━━━━━━━━━━━━━━━━━━\u001b[0m\u001b[37m\u001b[0m \u001b[1m105s\u001b[0m 182ms/step - accuracy: 0.8508 - loss: 0.4662 - val_accuracy: 0.9078 - val_loss: 0.3028\n",
            "Epoch 49/50\n",
            "\u001b[1m573/573\u001b[0m \u001b[32m━━━━━━━━━━━━━━━━━━━━\u001b[0m\u001b[37m\u001b[0m \u001b[1m101s\u001b[0m 174ms/step - accuracy: 0.8476 - loss: 0.4684 - val_accuracy: 0.9086 - val_loss: 0.3014\n",
            "Epoch 50/50\n",
            "\u001b[1m573/573\u001b[0m \u001b[32m━━━━━━━━━━━━━━━━━━━━\u001b[0m\u001b[37m\u001b[0m \u001b[1m99s\u001b[0m 171ms/step - accuracy: 0.8521 - loss: 0.4524 - val_accuracy: 0.9091 - val_loss: 0.2994\n"
          ]
        }
      ]
    },
    {
      "cell_type": "code",
      "source": [
        "from sklearn.metrics import f1_score\n",
        "import numpy as np\n",
        "\n",
        "# After training, calculate the F1-score for the test set\n",
        "def calculate_f1_score(model, test_generator):\n",
        "    # Predict the classes for the test set\n",
        "    test_generator.reset()  # Reset the generator to avoid data shuffling\n",
        "    predictions = model.predict(test_generator, verbose=1)\n",
        "\n",
        "    # Get the true labels\n",
        "    true_labels = test_generator.classes\n",
        "\n",
        "    # Convert predictions to class labels\n",
        "    predicted_labels = np.argmax(predictions, axis=1)\n",
        "\n",
        "    # Calculate the F1 score\n",
        "    f1 = f1_score(true_labels, predicted_labels, average='weighted')\n",
        "    return f1\n",
        "\n",
        "# Call the function to calculate F1-score on the test data\n",
        "f1 = calculate_f1_score(model, test_generator)\n",
        "print(f'F1 Score: {f1}')"
      ],
      "metadata": {
        "colab": {
          "base_uri": "https://localhost:8080/"
        },
        "id": "LegHKJ7nxIvN",
        "outputId": "f21c5c41-1178-47a0-e138-fb74b99d24a2"
      },
      "execution_count": 8,
      "outputs": [
        {
          "output_type": "stream",
          "name": "stdout",
          "text": [
            "\u001b[1m123/123\u001b[0m \u001b[32m━━━━━━━━━━━━━━━━━━━━\u001b[0m\u001b[37m\u001b[0m \u001b[1m6s\u001b[0m 46ms/step\n",
            "F1 Score: 0.12299717555265255\n"
          ]
        }
      ]
    },
    {
      "cell_type": "code",
      "source": [
        "# Step 7: Check for Overfitting\n",
        "train_acc = history.history['accuracy'][-1]\n",
        "val_acc = history.history['val_accuracy'][-1]\n",
        "train_loss = history.history['loss'][-1]\n",
        "val_loss = history.history['val_loss'][-1]\n",
        "\n",
        "overfit_ratio = train_loss / val_loss if val_loss != 0 else float('inf')\n",
        "print(f\"Train Accuracy: {train_acc:.4f}, Validation Accuracy: {val_acc:.4f}\")\n",
        "print(f\"Train Loss: {train_loss:.4f}, Validation Loss: {val_loss:.4f}\")\n",
        "print(f\"Overfitting Ratio (Train Loss / Validation Loss): {overfit_ratio:.4f}\")\n"
      ],
      "metadata": {
        "colab": {
          "base_uri": "https://localhost:8080/"
        },
        "id": "3dr2JxeTxGxK",
        "outputId": "98feb2a9-7c1f-4c9d-ee09-61f6caa77018"
      },
      "execution_count": 9,
      "outputs": [
        {
          "output_type": "stream",
          "name": "stdout",
          "text": [
            "Train Accuracy: 0.8490, Validation Accuracy: 0.9091\n",
            "Train Loss: 0.4578, Validation Loss: 0.2994\n",
            "Overfitting Ratio (Train Loss / Validation Loss): 1.5291\n"
          ]
        }
      ]
    },
    {
      "cell_type": "code",
      "source": [
        "# Evaluate the model\n",
        "test_loss, test_acc = model.evaluate(test_generator)\n",
        "print(f'Test accuracy: {test_acc:.4f}')\n",
        "\n"
      ],
      "metadata": {
        "colab": {
          "base_uri": "https://localhost:8080/"
        },
        "id": "Ywzuvw9jxN8H",
        "outputId": "f9e4d895-4fa6-493b-93d6-974a2e673e30"
      },
      "execution_count": 10,
      "outputs": [
        {
          "output_type": "stream",
          "name": "stdout",
          "text": [
            "\u001b[1m123/123\u001b[0m \u001b[32m━━━━━━━━━━━━━━━━━━━━\u001b[0m\u001b[37m\u001b[0m \u001b[1m7s\u001b[0m 60ms/step - accuracy: 0.8952 - loss: 0.3291\n",
            "Test accuracy: 0.8965\n"
          ]
        }
      ]
    },
    {
      "cell_type": "code",
      "source": [
        "# Step 9: Visualize the Training History\n",
        "# Accuracy and Loss Plot\n",
        "plt.figure(figsize=(12, 6))\n",
        "plt.subplot(1, 2, 1)\n",
        "plt.plot(history.history['accuracy'], label='Train Accuracy')\n",
        "plt.plot(history.history['val_accuracy'], label='Validation Accuracy')\n",
        "plt.title('Model Accuracy')\n",
        "plt.xlabel('Epoch')\n",
        "plt.ylabel('Accuracy')\n",
        "plt.legend()\n",
        "\n",
        "plt.subplot(1, 2, 2)\n",
        "plt.plot(history.history['loss'], label='Train Loss')\n",
        "plt.plot(history.history['val_loss'], label='Validation Loss')\n",
        "plt.title('Model Loss')\n",
        "plt.xlabel('Epoch')\n",
        "plt.ylabel('Loss')\n",
        "plt.legend()\n",
        "\n",
        "plt.tight_layout()\n",
        "plt.show()\n"
      ],
      "metadata": {
        "colab": {
          "base_uri": "https://localhost:8080/",
          "height": 559
        },
        "id": "Yeu0FHOAzoII",
        "outputId": "2632c9b2-25d5-4f45-a49c-9c0c99035b9e"
      },
      "execution_count": 12,
      "outputs": [
        {
          "output_type": "display_data",
          "data": {
            "text/plain": [
              "<Figure size 1200x600 with 2 Axes>"
            ],
            "image/png": "[encoded data removed]"
          },
          "metadata": {}
        }
      ]
    },
    {
      "cell_type": "code",
      "source": [
        "# Step 12: Save the model\n",
        "model.save(\"animal_classifier_model.h5\")"
      ],
      "metadata": {
        "colab": {
          "base_uri": "https://localhost:8080/"
        },
        "id": "_ChenWn_GMRL",
        "outputId": "3d946dfd-0fa1-49ca-bbac-410279962539"
      },
      "execution_count": 14,
      "outputs": [
        {
          "output_type": "stream",
          "name": "stderr",
          "text": [
            "WARNING:absl:You are saving your model as an HDF5 file via `model.save()` or `keras.saving.save_model(model)`. This file format is considered legacy. We recommend using instead the native Keras format, e.g. `model.save('my_model.keras')` or `keras.saving.save_model(model, 'my_model.keras')`. \n"
          ]
        }
      ]
    }
  ],
  "metadata": {
    "colab": {
      "provenance": [],
      "gpuType": "T4",
      "include_colab_link": true
    },
    "kernelspec": {
      "display_name": "Python 3",
      "name": "python3"
    },
    "accelerator": "GPU"
  },
  "nbformat": 4,
  "nbformat_minor": 0
}